{
 "cells": [
  {
   "cell_type": "markdown",
   "id": "071cf906-974b-4142-90a7-45c66a09f912",
   "metadata": {},
   "source": [
    "# Understanding Faiss"
   ]
  },
  {
   "cell_type": "code",
   "execution_count": 2,
   "id": "84398816-b345-4c89-8f2e-e6d0bc282fae",
   "metadata": {
    "tags": []
   },
   "outputs": [
    {
     "name": "stdout",
     "output_type": "stream",
     "text": [
      "Collecting faiss-cpu\n",
      "  Downloading faiss_cpu-1.9.0-cp311-cp311-macosx_11_0_arm64.whl.metadata (4.4 kB)\n",
      "Requirement already satisfied: numpy<3.0,>=1.25.0 in /opt/anaconda3/lib/python3.11/site-packages (from faiss-cpu) (1.26.4)\n",
      "Requirement already satisfied: packaging in /opt/anaconda3/lib/python3.11/site-packages (from faiss-cpu) (24.1)\n",
      "Downloading faiss_cpu-1.9.0-cp311-cp311-macosx_11_0_arm64.whl (3.2 MB)\n",
      "\u001b[2K   \u001b[90m━━━━━━━━━━━━━━━━━━━━━━━━━━━━━━━━━━━━━━━━\u001b[0m \u001b[32m3.2/3.2 MB\u001b[0m \u001b[31m4.8 MB/s\u001b[0m eta \u001b[36m0:00:00\u001b[0ma \u001b[36m0:00:01\u001b[0mm\n",
      "\u001b[?25hInstalling collected packages: faiss-cpu\n",
      "Successfully installed faiss-cpu-1.9.0\n",
      "Collecting sentence-transformers\n",
      "  Downloading sentence_transformers-3.2.0-py3-none-any.whl.metadata (10 kB)\n",
      "Collecting transformers<5.0.0,>=4.41.0 (from sentence-transformers)\n",
      "  Downloading transformers-4.45.2-py3-none-any.whl.metadata (44 kB)\n",
      "Requirement already satisfied: tqdm in /opt/anaconda3/lib/python3.11/site-packages (from sentence-transformers) (4.65.0)\n",
      "Collecting torch>=1.11.0 (from sentence-transformers)\n",
      "  Downloading torch-2.5.0-cp311-none-macosx_11_0_arm64.whl.metadata (28 kB)\n",
      "Requirement already satisfied: scikit-learn in /opt/anaconda3/lib/python3.11/site-packages (from sentence-transformers) (1.2.2)\n",
      "Requirement already satisfied: scipy in /opt/anaconda3/lib/python3.11/site-packages (from sentence-transformers) (1.11.4)\n",
      "Collecting huggingface-hub>=0.20.0 (from sentence-transformers)\n",
      "  Downloading huggingface_hub-0.26.0-py3-none-any.whl.metadata (13 kB)\n",
      "Requirement already satisfied: Pillow in /opt/anaconda3/lib/python3.11/site-packages (from sentence-transformers) (10.2.0)\n",
      "Requirement already satisfied: filelock in /opt/anaconda3/lib/python3.11/site-packages (from huggingface-hub>=0.20.0->sentence-transformers) (3.13.1)\n",
      "Requirement already satisfied: fsspec>=2023.5.0 in /opt/anaconda3/lib/python3.11/site-packages (from huggingface-hub>=0.20.0->sentence-transformers) (2023.10.0)\n",
      "Requirement already satisfied: packaging>=20.9 in /opt/anaconda3/lib/python3.11/site-packages (from huggingface-hub>=0.20.0->sentence-transformers) (24.1)\n",
      "Requirement already satisfied: pyyaml>=5.1 in /opt/anaconda3/lib/python3.11/site-packages (from huggingface-hub>=0.20.0->sentence-transformers) (6.0.1)\n",
      "Requirement already satisfied: requests in /opt/anaconda3/lib/python3.11/site-packages (from huggingface-hub>=0.20.0->sentence-transformers) (2.31.0)\n",
      "Requirement already satisfied: typing-extensions>=3.7.4.3 in /opt/anaconda3/lib/python3.11/site-packages (from huggingface-hub>=0.20.0->sentence-transformers) (4.9.0)\n",
      "Requirement already satisfied: networkx in /opt/anaconda3/lib/python3.11/site-packages (from torch>=1.11.0->sentence-transformers) (3.1)\n",
      "Requirement already satisfied: jinja2 in /opt/anaconda3/lib/python3.11/site-packages (from torch>=1.11.0->sentence-transformers) (3.1.3)\n",
      "Collecting sympy==1.13.1 (from torch>=1.11.0->sentence-transformers)\n",
      "  Downloading sympy-1.13.1-py3-none-any.whl.metadata (12 kB)\n",
      "Requirement already satisfied: mpmath<1.4,>=1.1.0 in /opt/anaconda3/lib/python3.11/site-packages (from sympy==1.13.1->torch>=1.11.0->sentence-transformers) (1.3.0)\n",
      "Requirement already satisfied: numpy>=1.17 in /opt/anaconda3/lib/python3.11/site-packages (from transformers<5.0.0,>=4.41.0->sentence-transformers) (1.26.4)\n",
      "Requirement already satisfied: regex!=2019.12.17 in /opt/anaconda3/lib/python3.11/site-packages (from transformers<5.0.0,>=4.41.0->sentence-transformers) (2023.10.3)\n",
      "Collecting safetensors>=0.4.1 (from transformers<5.0.0,>=4.41.0->sentence-transformers)\n",
      "  Downloading safetensors-0.4.5-cp311-cp311-macosx_11_0_arm64.whl.metadata (3.8 kB)\n",
      "Collecting tokenizers<0.21,>=0.20 (from transformers<5.0.0,>=4.41.0->sentence-transformers)\n",
      "  Downloading tokenizers-0.20.1-cp311-cp311-macosx_11_0_arm64.whl.metadata (6.7 kB)\n",
      "Requirement already satisfied: joblib>=1.1.1 in /opt/anaconda3/lib/python3.11/site-packages (from scikit-learn->sentence-transformers) (1.2.0)\n",
      "Requirement already satisfied: threadpoolctl>=2.0.0 in /opt/anaconda3/lib/python3.11/site-packages (from scikit-learn->sentence-transformers) (2.2.0)\n",
      "Requirement already satisfied: MarkupSafe>=2.0 in /opt/anaconda3/lib/python3.11/site-packages (from jinja2->torch>=1.11.0->sentence-transformers) (2.1.3)\n",
      "Requirement already satisfied: charset-normalizer<4,>=2 in /opt/anaconda3/lib/python3.11/site-packages (from requests->huggingface-hub>=0.20.0->sentence-transformers) (2.0.4)\n",
      "Requirement already satisfied: idna<4,>=2.5 in /opt/anaconda3/lib/python3.11/site-packages (from requests->huggingface-hub>=0.20.0->sentence-transformers) (3.4)\n",
      "Requirement already satisfied: urllib3<3,>=1.21.1 in /opt/anaconda3/lib/python3.11/site-packages (from requests->huggingface-hub>=0.20.0->sentence-transformers) (2.0.7)\n",
      "Requirement already satisfied: certifi>=2017.4.17 in /opt/anaconda3/lib/python3.11/site-packages (from requests->huggingface-hub>=0.20.0->sentence-transformers) (2024.8.30)\n",
      "Downloading sentence_transformers-3.2.0-py3-none-any.whl (255 kB)\n",
      "Downloading huggingface_hub-0.26.0-py3-none-any.whl (447 kB)\n",
      "Downloading torch-2.5.0-cp311-none-macosx_11_0_arm64.whl (64.3 MB)\n",
      "\u001b[2K   \u001b[90m━━━━━━━━━━━━━━━━━━━━━━━━━━━━━━━━━━━━━━━━\u001b[0m \u001b[32m64.3/64.3 MB\u001b[0m \u001b[31m5.7 MB/s\u001b[0m eta \u001b[36m0:00:00\u001b[0m00:01\u001b[0m00:01\u001b[0m\n",
      "\u001b[?25hDownloading sympy-1.13.1-py3-none-any.whl (6.2 MB)\n",
      "\u001b[2K   \u001b[90m━━━━━━━━━━━━━━━━━━━━━━━━━━━━━━━━━━━━━━━━\u001b[0m \u001b[32m6.2/6.2 MB\u001b[0m \u001b[31m6.6 MB/s\u001b[0m eta \u001b[36m0:00:00\u001b[0ma \u001b[36m0:00:01\u001b[0m\n",
      "\u001b[?25hDownloading transformers-4.45.2-py3-none-any.whl (9.9 MB)\n",
      "\u001b[2K   \u001b[90m━━━━━━━━━━━━━━━━━━━━━━━━━━━━━━━━━━━━━━━━\u001b[0m \u001b[32m9.9/9.9 MB\u001b[0m \u001b[31m6.0 MB/s\u001b[0m eta \u001b[36m0:00:00\u001b[0m00:01\u001b[0m00:01\u001b[0m\n",
      "\u001b[?25hDownloading safetensors-0.4.5-cp311-cp311-macosx_11_0_arm64.whl (381 kB)\n",
      "Downloading tokenizers-0.20.1-cp311-cp311-macosx_11_0_arm64.whl (2.6 MB)\n",
      "\u001b[2K   \u001b[90m━━━━━━━━━━━━━━━━━━━━━━━━━━━━━━━━━━━━━━━━\u001b[0m \u001b[32m2.6/2.6 MB\u001b[0m \u001b[31m6.5 MB/s\u001b[0m eta \u001b[36m0:00:00\u001b[0ma \u001b[36m0:00:01\u001b[0m\n",
      "\u001b[?25hInstalling collected packages: sympy, safetensors, torch, huggingface-hub, tokenizers, transformers, sentence-transformers\n",
      "  Attempting uninstall: sympy\n",
      "    Found existing installation: sympy 1.12\n",
      "    Uninstalling sympy-1.12:\n",
      "      Successfully uninstalled sympy-1.12\n",
      "Successfully installed huggingface-hub-0.26.0 safetensors-0.4.5 sentence-transformers-3.2.0 sympy-1.13.1 tokenizers-0.20.1 torch-2.5.0 transformers-4.45.2\n"
     ]
    }
   ],
   "source": [
    "# #Install Packages\n",
    "!pip install faiss-cpu\n",
    "!pip install sentence-transformers"
   ]
  },
  {
   "cell_type": "code",
   "execution_count": 4,
   "id": "9cc80c63-524f-4c27-b611-c73d3bc82c5a",
   "metadata": {
    "tags": []
   },
   "outputs": [],
   "source": [
    "# import pandas \n",
    "import pandas as pd "
   ]
  },
  {
   "cell_type": "code",
   "execution_count": 18,
   "id": "a972a14c-ef8a-4a76-91f1-fa1b060c6fc8",
   "metadata": {
    "tags": []
   },
   "outputs": [],
   "source": [
    "df = pd.read_csv(\"FAISS_text.csv\")"
   ]
  },
  {
   "cell_type": "code",
   "execution_count": 20,
   "id": "3638a82f-b6aa-4a00-b876-630725607ab1",
   "metadata": {
    "tags": []
   },
   "outputs": [
    {
     "data": {
      "text/html": [
       "<div>\n",
       "<style scoped>\n",
       "    .dataframe tbody tr th:only-of-type {\n",
       "        vertical-align: middle;\n",
       "    }\n",
       "\n",
       "    .dataframe tbody tr th {\n",
       "        vertical-align: top;\n",
       "    }\n",
       "\n",
       "    .dataframe thead th {\n",
       "        text-align: right;\n",
       "    }\n",
       "</style>\n",
       "<table border=\"1\" class=\"dataframe\">\n",
       "  <thead>\n",
       "    <tr style=\"text-align: right;\">\n",
       "      <th></th>\n",
       "      <th>text</th>\n",
       "      <th>category</th>\n",
       "    </tr>\n",
       "  </thead>\n",
       "  <tbody>\n",
       "    <tr>\n",
       "      <th>0</th>\n",
       "      <td>Meditation and yoga can improve mental health</td>\n",
       "      <td>Health</td>\n",
       "    </tr>\n",
       "    <tr>\n",
       "      <th>1</th>\n",
       "      <td>Fruits, whole grains and vegetables helps cont...</td>\n",
       "      <td>Health</td>\n",
       "    </tr>\n",
       "    <tr>\n",
       "      <th>2</th>\n",
       "      <td>These are the latest fashion trends for this week</td>\n",
       "      <td>Fashion</td>\n",
       "    </tr>\n",
       "    <tr>\n",
       "      <th>3</th>\n",
       "      <td>Vibrant color jeans for male are becoming a trend</td>\n",
       "      <td>Fashion</td>\n",
       "    </tr>\n",
       "    <tr>\n",
       "      <th>4</th>\n",
       "      <td>The concert starts at 7 PM tonight</td>\n",
       "      <td>Event</td>\n",
       "    </tr>\n",
       "    <tr>\n",
       "      <th>5</th>\n",
       "      <td>Navaratri dandiya program at Expo center in Mu...</td>\n",
       "      <td>Event</td>\n",
       "    </tr>\n",
       "    <tr>\n",
       "      <th>6</th>\n",
       "      <td>Exciting vacation destinations for your next trip</td>\n",
       "      <td>Travel</td>\n",
       "    </tr>\n",
       "    <tr>\n",
       "      <th>7</th>\n",
       "      <td>Maldives and Srilanka are gaining popularity i...</td>\n",
       "      <td>Travel</td>\n",
       "    </tr>\n",
       "  </tbody>\n",
       "</table>\n",
       "</div>"
      ],
      "text/plain": [
       "                                                text category\n",
       "0      Meditation and yoga can improve mental health   Health\n",
       "1  Fruits, whole grains and vegetables helps cont...   Health\n",
       "2  These are the latest fashion trends for this week  Fashion\n",
       "3  Vibrant color jeans for male are becoming a trend  Fashion\n",
       "4                 The concert starts at 7 PM tonight    Event\n",
       "5  Navaratri dandiya program at Expo center in Mu...    Event\n",
       "6  Exciting vacation destinations for your next trip   Travel\n",
       "7  Maldives and Srilanka are gaining popularity i...   Travel"
      ]
     },
     "execution_count": 20,
     "metadata": {},
     "output_type": "execute_result"
    }
   ],
   "source": [
    "df"
   ]
  },
  {
   "cell_type": "code",
   "execution_count": 24,
   "id": "560cbc60-1d6d-4c73-8a81-5d760a3da359",
   "metadata": {
    "tags": []
   },
   "outputs": [],
   "source": [
    "# Converting the text to vector using embeddings \n",
    "\n",
    "from sentence_transformers import SentenceTransformer"
   ]
  },
  {
   "cell_type": "code",
   "execution_count": 26,
   "id": "76101ea7-cca9-4257-b3f5-878b8a7c7b52",
   "metadata": {
    "tags": []
   },
   "outputs": [
    {
     "data": {
      "application/vnd.jupyter.widget-view+json": {
       "model_id": "fd019082972843d5967fbb12b27d22a7",
       "version_major": 2,
       "version_minor": 0
      },
      "text/plain": [
       "modules.json:   0%|          | 0.00/349 [00:00<?, ?B/s]"
      ]
     },
     "metadata": {},
     "output_type": "display_data"
    },
    {
     "data": {
      "application/vnd.jupyter.widget-view+json": {
       "model_id": "abe9463217bd4f9eaa5e8e89c977c73a",
       "version_major": 2,
       "version_minor": 0
      },
      "text/plain": [
       "config_sentence_transformers.json:   0%|          | 0.00/116 [00:00<?, ?B/s]"
      ]
     },
     "metadata": {},
     "output_type": "display_data"
    },
    {
     "data": {
      "application/vnd.jupyter.widget-view+json": {
       "model_id": "7428c8e14c474aca983b37d909b216fc",
       "version_major": 2,
       "version_minor": 0
      },
      "text/plain": [
       "README.md:   0%|          | 0.00/10.6k [00:00<?, ?B/s]"
      ]
     },
     "metadata": {},
     "output_type": "display_data"
    },
    {
     "data": {
      "application/vnd.jupyter.widget-view+json": {
       "model_id": "d99e9b130cd64b92b85f6402bc4821ec",
       "version_major": 2,
       "version_minor": 0
      },
      "text/plain": [
       "sentence_bert_config.json:   0%|          | 0.00/53.0 [00:00<?, ?B/s]"
      ]
     },
     "metadata": {},
     "output_type": "display_data"
    },
    {
     "data": {
      "application/vnd.jupyter.widget-view+json": {
       "model_id": "58fc3a59eff4462fb553c34d6bdd0a43",
       "version_major": 2,
       "version_minor": 0
      },
      "text/plain": [
       "config.json:   0%|          | 0.00/571 [00:00<?, ?B/s]"
      ]
     },
     "metadata": {},
     "output_type": "display_data"
    },
    {
     "data": {
      "application/vnd.jupyter.widget-view+json": {
       "model_id": "043709c34b9d4e18866242074406da38",
       "version_major": 2,
       "version_minor": 0
      },
      "text/plain": [
       "model.safetensors:   0%|          | 0.00/438M [00:00<?, ?B/s]"
      ]
     },
     "metadata": {},
     "output_type": "display_data"
    },
    {
     "data": {
      "application/vnd.jupyter.widget-view+json": {
       "model_id": "d1d8833db46540208b5c61a56197bdda",
       "version_major": 2,
       "version_minor": 0
      },
      "text/plain": [
       "tokenizer_config.json:   0%|          | 0.00/363 [00:00<?, ?B/s]"
      ]
     },
     "metadata": {},
     "output_type": "display_data"
    },
    {
     "data": {
      "application/vnd.jupyter.widget-view+json": {
       "model_id": "4a1b6a74a8034908b47b769400d533ee",
       "version_major": 2,
       "version_minor": 0
      },
      "text/plain": [
       "vocab.txt:   0%|          | 0.00/232k [00:00<?, ?B/s]"
      ]
     },
     "metadata": {},
     "output_type": "display_data"
    },
    {
     "data": {
      "application/vnd.jupyter.widget-view+json": {
       "model_id": "877563b1b0c84826881c1d94e26df48b",
       "version_major": 2,
       "version_minor": 0
      },
      "text/plain": [
       "tokenizer.json:   0%|          | 0.00/466k [00:00<?, ?B/s]"
      ]
     },
     "metadata": {},
     "output_type": "display_data"
    },
    {
     "data": {
      "application/vnd.jupyter.widget-view+json": {
       "model_id": "b49264db4a3347b8a43e598b1408d3ad",
       "version_major": 2,
       "version_minor": 0
      },
      "text/plain": [
       "special_tokens_map.json:   0%|          | 0.00/239 [00:00<?, ?B/s]"
      ]
     },
     "metadata": {},
     "output_type": "display_data"
    },
    {
     "data": {
      "application/vnd.jupyter.widget-view+json": {
       "model_id": "d3bafec6138b446eac194a0a9d8fcef8",
       "version_major": 2,
       "version_minor": 0
      },
      "text/plain": [
       "1_Pooling/config.json:   0%|          | 0.00/190 [00:00<?, ?B/s]"
      ]
     },
     "metadata": {},
     "output_type": "display_data"
    }
   ],
   "source": [
    "# Hugging face encoder \n",
    "encoder = SentenceTransformer(\"all-mpnet-base-v2\")\n",
    "vectors = encoder.encode(df.text)"
   ]
  },
  {
   "cell_type": "code",
   "execution_count": 28,
   "id": "84390cd4-df01-424d-b090-c04e5832c241",
   "metadata": {
    "tags": []
   },
   "outputs": [
    {
     "data": {
      "text/plain": [
       "array([[-0.0024739 ,  0.03626722, -0.05290461, ..., -0.0915236 ,\n",
       "        -0.03970003, -0.04330488],\n",
       "       [-0.03357266,  0.00980518, -0.03250131, ..., -0.05165475,\n",
       "         0.02245891, -0.03156183],\n",
       "       [-0.01865325, -0.04051302, -0.01235392, ...,  0.00610584,\n",
       "        -0.07179646,  0.02773845],\n",
       "       ...,\n",
       "       [-0.0006646 ,  0.04252126, -0.05645508, ...,  0.01315469,\n",
       "        -0.03183556, -0.04357661],\n",
       "       [-0.03317147,  0.03252461, -0.02484839, ...,  0.01174418,\n",
       "         0.05747125,  0.00571025],\n",
       "       [-0.00166396,  0.00413834, -0.0459708 , ...,  0.02008529,\n",
       "         0.0565625 , -0.00161594]], dtype=float32)"
      ]
     },
     "execution_count": 28,
     "metadata": {},
     "output_type": "execute_result"
    }
   ],
   "source": [
    "vectors"
   ]
  },
  {
   "cell_type": "code",
   "execution_count": 30,
   "id": "d3ea5311-d921-4a8d-9848-36771e67a75a",
   "metadata": {
    "tags": []
   },
   "outputs": [
    {
     "data": {
      "text/plain": [
       "(8, 768)"
      ]
     },
     "execution_count": 30,
     "metadata": {},
     "output_type": "execute_result"
    }
   ],
   "source": [
    "vectors.shape"
   ]
  },
  {
   "cell_type": "code",
   "execution_count": 32,
   "id": "b0beab1a-c3b0-4dc3-978e-e23dd5b3de70",
   "metadata": {
    "tags": []
   },
   "outputs": [
    {
     "data": {
      "text/plain": [
       "array([-2.47389986e-03,  3.62672210e-02, -5.29046133e-02, -2.17348114e-02,\n",
       "        1.41724003e-02, -1.01591449e-03,  2.23637111e-02,  3.65196429e-02,\n",
       "        3.80901732e-02,  5.22018038e-03, -3.00865434e-02,  2.05448503e-03,\n",
       "        1.08502833e-02, -8.49088356e-02, -5.57263615e-03, -6.06597625e-02,\n",
       "        2.32009520e-03, -1.51408575e-02,  1.20671950e-02,  1.98904797e-02,\n",
       "       -1.27936089e-02, -2.72811819e-02, -3.31878811e-02,  3.40645388e-03,\n",
       "        8.41165986e-03, -1.94854047e-02,  4.88132425e-02,  2.24119276e-02,\n",
       "        4.53466810e-02, -5.90892620e-02, -9.13183242e-02, -1.22331374e-03,\n",
       "       -4.05046605e-02,  8.67178198e-03,  1.26565283e-06, -1.92451589e-02,\n",
       "       -3.20659205e-02, -4.08172384e-02,  8.79177228e-02, -1.52631858e-02,\n",
       "        1.09909289e-02, -4.47978079e-02, -4.74825967e-03,  3.52632329e-02,\n",
       "        1.31071508e-02,  1.09944530e-02, -3.45765380e-03,  9.12349597e-02,\n",
       "        5.68809249e-02,  4.82893363e-02, -4.51439852e-03,  3.58451419e-02,\n",
       "       -2.44209319e-02, -4.28084731e-02, -1.66666284e-02,  1.65211279e-02,\n",
       "        1.14226937e-02,  6.19199947e-02, -2.31556855e-02, -3.98107804e-02,\n",
       "       -1.20360479e-02, -3.24894004e-02, -4.68717627e-02,  5.74308857e-02,\n",
       "       -2.09294986e-02,  8.66616052e-03,  2.93694455e-02,  1.39485695e-03,\n",
       "        2.89673097e-02,  1.57141015e-02, -4.39902535e-03,  3.33096571e-02,\n",
       "        3.25463563e-02, -5.67622343e-03,  9.64481663e-03, -1.09199556e-02,\n",
       "       -9.13847610e-03, -2.17637997e-02, -1.64264895e-03,  2.95123477e-02,\n",
       "        7.90998191e-02,  1.52951749e-02, -3.61723267e-02, -1.28437402e-02,\n",
       "        7.60599747e-02, -2.54636370e-02, -4.98352107e-03, -9.66973975e-03,\n",
       "        1.23360064e-02, -1.11458404e-02, -1.25426846e-02, -4.38240096e-02,\n",
       "       -1.63970643e-03,  3.94689944e-03,  5.90729760e-04,  1.25497887e-02,\n",
       "       -1.35576036e-02, -1.38590068e-01, -1.79839619e-02,  8.95770490e-02,\n",
       "        6.93044215e-02,  5.44512272e-02, -1.73114389e-02, -6.94496930e-02,\n",
       "        9.26832762e-03,  2.52373535e-02,  1.27630960e-02, -4.95674321e-03,\n",
       "       -1.05311265e-02,  6.89907372e-02, -4.03776020e-03,  1.46954022e-02,\n",
       "       -2.53697485e-02, -3.24943438e-02, -4.91565093e-03,  4.10973793e-03,\n",
       "       -6.16341643e-02, -9.87223908e-03, -4.40229736e-02, -2.49387659e-02,\n",
       "       -2.57239249e-02, -6.45754710e-02, -2.28088852e-02,  8.39859480e-04,\n",
       "        5.17681763e-02,  7.28095993e-02, -2.78259758e-02, -2.70896852e-02,\n",
       "        2.56124903e-02, -2.85153091e-02,  2.48930231e-02,  1.52170612e-02,\n",
       "       -1.82602257e-02,  4.57473192e-03,  4.00791084e-03, -4.10634056e-02,\n",
       "        5.58519512e-02, -4.68987273e-03, -5.42437062e-02,  4.36733011e-03,\n",
       "        1.01202717e-02, -9.13166534e-03,  8.82923678e-02, -2.30879281e-02,\n",
       "       -2.15984806e-02, -4.62850817e-02,  2.45607104e-02, -9.63642355e-03,\n",
       "        2.04569623e-02, -3.36907394e-02, -2.33147256e-02, -3.11269741e-06,\n",
       "       -4.21611816e-02, -2.33145729e-02,  3.98630500e-02,  5.20908684e-02,\n",
       "        8.87798667e-02, -7.32721761e-04,  3.44773158e-02, -2.87739299e-02,\n",
       "        4.24331017e-02, -1.99290421e-02,  2.78220363e-02, -3.48256826e-02,\n",
       "        5.40322810e-02, -4.23691273e-02,  8.31100866e-02, -2.88302153e-02,\n",
       "       -6.22712262e-02,  2.47736964e-02, -6.59210160e-02, -1.81272533e-02,\n",
       "       -1.48121631e-02,  1.07428804e-01, -4.06898465e-03,  6.28881902e-02,\n",
       "       -1.45184072e-02,  2.66863219e-02, -8.66079926e-02, -1.52694797e-02,\n",
       "       -3.13386647e-03, -2.73714098e-03, -1.79909430e-02,  1.99596696e-02,\n",
       "        8.21225867e-02,  6.80242851e-03, -7.02432357e-03,  2.94618476e-02,\n",
       "       -1.36624984e-02, -4.27073650e-02, -4.59483974e-02, -2.15018541e-02,\n",
       "        1.33593669e-02, -4.04234901e-02, -3.29467212e-03,  1.99418329e-02,\n",
       "        4.95412238e-02,  5.59022166e-02,  1.10123800e-02, -1.27650297e-03,\n",
       "       -3.47213745e-02,  5.04798926e-02, -2.76384372e-02, -6.08149134e-02,\n",
       "       -4.09358926e-02, -1.70138944e-02,  2.28634812e-02,  3.50618293e-03,\n",
       "        8.88337940e-02, -2.17468739e-02,  7.32046645e-03,  4.30595167e-02,\n",
       "       -2.76746065e-03, -1.28804874e-02,  1.48885814e-03, -7.65302917e-03,\n",
       "        7.79389404e-04,  3.98992561e-02,  1.81990061e-02,  2.18544924e-03,\n",
       "       -1.44026792e-02,  6.61468655e-02,  1.29944589e-02,  3.00763582e-04,\n",
       "        6.94511309e-02,  9.69149359e-03,  7.73052052e-02,  1.49983950e-02,\n",
       "        7.68602937e-02,  1.50438230e-02, -2.70854384e-02,  1.03822406e-02,\n",
       "       -6.34128833e-03, -1.86571572e-02, -5.77930249e-02,  2.80815605e-02,\n",
       "        2.32389085e-02, -2.65862830e-02, -4.37124334e-02,  2.25695744e-02,\n",
       "        2.60373596e-02,  5.91905154e-02, -9.07669775e-03, -2.58117449e-02,\n",
       "       -2.82167713e-03, -1.48377353e-02, -2.11602449e-02,  2.95709129e-02,\n",
       "       -6.05773106e-02,  9.92964953e-03,  3.09271109e-03, -2.78294571e-02,\n",
       "       -4.66294773e-02, -1.66598707e-02, -3.01651210e-02, -4.93830033e-02,\n",
       "       -4.89022024e-02, -1.16063207e-02,  1.28894979e-02, -1.51607813e-02,\n",
       "       -1.83716267e-02, -6.28015492e-03,  4.56342567e-03, -3.93355526e-02,\n",
       "        1.97598804e-02, -2.09158845e-02,  3.26803997e-02, -9.99122784e-02,\n",
       "       -7.31087010e-03, -2.85854563e-02, -4.75265086e-02, -7.53554143e-03,\n",
       "        7.45943747e-03, -1.76944118e-02, -3.87278162e-02, -1.26045933e-02,\n",
       "        6.57023489e-02,  9.98488367e-02,  3.23767625e-02, -3.14150341e-02,\n",
       "       -3.39231044e-02,  2.18934119e-02,  4.17155661e-02, -2.91292984e-02,\n",
       "        1.69252455e-02, -2.70651467e-02,  1.02947718e-02, -8.51264689e-03,\n",
       "        5.82498722e-02,  6.05031429e-03,  2.51692738e-02,  1.17143421e-02,\n",
       "       -1.43268639e-02, -2.68336106e-02, -3.36446017e-02,  4.13522534e-02,\n",
       "        1.23574268e-02,  3.27558108e-02,  1.36757828e-03, -3.43487822e-02,\n",
       "       -2.23306175e-02,  1.16951335e-02,  2.89604068e-02,  9.82659869e-03,\n",
       "        4.48703989e-02,  1.36505775e-02, -2.55218204e-02,  1.16558298e-02,\n",
       "        1.72281768e-02, -1.19526805e-02,  2.94619855e-02,  5.44004189e-03,\n",
       "        7.05644488e-03, -2.76310593e-02,  2.19649617e-02,  2.89273746e-02,\n",
       "        2.90115830e-02,  1.71293747e-02,  1.71570852e-02,  3.06243356e-02,\n",
       "       -3.33006121e-03, -4.28258441e-02, -2.78929975e-02, -8.78215954e-03,\n",
       "       -1.97481294e-03, -3.04208193e-02,  1.01123951e-01,  1.11175412e-02,\n",
       "        3.70046450e-03,  3.05224229e-02, -6.94844639e-03,  3.36760059e-02,\n",
       "        1.49479248e-02,  5.09506799e-02, -6.17867820e-02, -6.54373914e-02,\n",
       "        1.01318574e-02,  8.71548336e-03, -2.13060882e-02, -7.16117769e-03,\n",
       "        2.81146448e-02,  6.08831784e-03, -6.53893203e-02,  8.65299776e-02,\n",
       "       -4.26639542e-02, -1.95683893e-02,  6.20281138e-03,  5.45220561e-02,\n",
       "       -2.94112193e-04, -7.94979781e-02,  2.34851204e-02, -2.81759184e-02,\n",
       "       -2.67927293e-02,  8.09149630e-03,  1.06042922e-02, -3.51757631e-02,\n",
       "        3.66234854e-02,  1.09313028e-02,  2.97116209e-02,  1.30286990e-02,\n",
       "       -3.92857641e-02,  1.45116867e-02,  1.87349934e-02, -1.32707851e-02,\n",
       "        6.87149465e-02, -3.04465797e-02, -2.08048224e-02,  1.08850356e-02,\n",
       "        2.52188276e-02,  1.71259306e-02, -3.36281583e-02,  5.18849194e-02,\n",
       "       -1.62589569e-02,  1.43419085e-02, -5.09706251e-02,  7.62143284e-02,\n",
       "       -3.95712070e-03, -6.92037642e-02, -5.83420396e-02, -1.35672400e-02,\n",
       "        6.34207996e-03,  1.52592128e-02,  6.45104796e-03,  4.78070136e-03,\n",
       "        2.21218895e-02, -1.46031296e-02,  1.99064743e-02,  4.94005606e-02,\n",
       "        3.77784669e-02, -4.72102612e-02,  1.19162269e-03, -7.77720138e-02,\n",
       "        7.51761645e-02,  1.51348971e-02, -3.00767161e-02, -2.54278481e-02,\n",
       "       -7.68558960e-03, -3.32965404e-02,  2.68353242e-02,  1.16433166e-02,\n",
       "       -2.65071914e-02, -2.21000463e-02,  3.13200504e-02, -1.75455343e-02,\n",
       "        1.62754804e-02,  1.05225602e-02,  4.59100716e-02,  1.12994323e-02,\n",
       "        2.25941022e-03, -4.32899967e-02,  2.55048368e-02,  9.08373296e-02,\n",
       "        3.49960588e-02,  1.99541114e-02,  8.99382010e-02, -1.25246625e-02,\n",
       "        2.99615636e-02,  5.30711282e-03,  3.87516618e-02, -7.73843303e-02,\n",
       "       -2.13108584e-02,  1.71742830e-02, -2.26808209e-02,  3.90663482e-02,\n",
       "       -1.48159890e-02,  6.43334910e-02,  4.15602252e-02,  3.50652100e-03,\n",
       "       -3.73801626e-02, -2.15710383e-02,  3.59704010e-02,  1.26670897e-02,\n",
       "        1.18571958e-02, -1.57607198e-02,  2.89345514e-02, -1.26264547e-03,\n",
       "       -1.25826132e-02, -1.85953099e-02, -4.02568951e-02, -4.52977233e-02,\n",
       "       -3.23485658e-02, -9.25442297e-03,  1.25145139e-02, -1.65086631e-02,\n",
       "        1.14767328e-02,  2.81503238e-02,  8.33325833e-02,  3.36188339e-02,\n",
       "        4.08973079e-04,  3.39800678e-02,  1.61180086e-02,  3.48991565e-02,\n",
       "        1.53090600e-02, -1.57534331e-02,  4.15873118e-02, -2.98247524e-02,\n",
       "       -4.53814641e-02, -1.02242284e-01,  4.03168090e-02,  1.70004424e-02,\n",
       "        1.87226366e-02, -2.08055042e-03, -3.33339954e-03,  3.12029775e-02,\n",
       "        4.42036689e-04, -6.45753592e-02, -6.61167949e-02, -6.12063222e-02,\n",
       "       -1.36191621e-02, -2.49697026e-02,  6.13838360e-02,  2.51729842e-02,\n",
       "       -6.04644185e-03,  2.46976130e-02,  1.33112194e-02,  2.91292127e-02,\n",
       "       -3.77129652e-02,  3.14110853e-02,  7.01060742e-02, -1.87029243e-02,\n",
       "        4.64438684e-02, -3.50710079e-02,  5.78632578e-03,  2.02969443e-02,\n",
       "       -9.14963661e-04,  2.73546241e-02, -4.49903384e-02, -1.92701947e-02,\n",
       "       -1.94978726e-03, -2.72162762e-02, -1.74500910e-03,  5.99823333e-02,\n",
       "        3.38418223e-03, -4.43554260e-02,  2.25252081e-02, -1.98007897e-02,\n",
       "       -1.27885789e-02, -1.68491881e-02, -3.18891890e-02, -9.83177777e-03,\n",
       "       -2.37169042e-02, -3.51698342e-04,  2.70683970e-03,  4.34032232e-02,\n",
       "        2.23511597e-03,  1.04528759e-02, -1.25210974e-02,  3.80456112e-02,\n",
       "       -5.37388143e-04, -1.31307691e-02,  1.76104736e-02, -3.21553962e-04,\n",
       "       -4.33225334e-02, -6.97795674e-02,  2.04764921e-02,  2.54792068e-03,\n",
       "        3.64245735e-02,  1.31792342e-02,  3.74212638e-02, -2.40745898e-02,\n",
       "        1.58512723e-02,  2.33805180e-02, -1.43252704e-02,  9.85235814e-03,\n",
       "       -1.55073274e-02,  8.11950769e-03, -2.57197190e-02,  4.66306787e-03,\n",
       "       -1.50064602e-02, -1.59888882e-02, -6.18274622e-02, -3.19935270e-02,\n",
       "        3.00306510e-02, -2.62035821e-02, -4.40740287e-02,  4.71210554e-02,\n",
       "       -8.53407532e-02,  5.49824536e-02, -6.54162932e-03,  4.11518812e-02,\n",
       "        4.12453674e-02, -2.99727283e-02,  8.77856091e-02, -4.84295469e-03,\n",
       "       -1.86586808e-02, -2.43210737e-02, -3.44159408e-03,  1.71138048e-02,\n",
       "        5.27162440e-02, -3.81458737e-02, -6.85426742e-02,  1.49509488e-02,\n",
       "       -2.22115740e-02, -2.86749750e-02, -2.97933770e-03, -3.73255713e-33,\n",
       "       -8.48159660e-03,  5.95544316e-02, -9.73885134e-03,  2.78522465e-02,\n",
       "        4.26149415e-03, -4.62204963e-02, -1.60506053e-04,  2.03655232e-02,\n",
       "        2.74291690e-02,  3.67005356e-02,  8.95549078e-03,  7.47958571e-02,\n",
       "       -5.74467843e-03,  1.78796239e-02, -8.56291037e-03, -1.87857766e-02,\n",
       "       -2.86743250e-02,  5.29128220e-03, -7.28311902e-03, -1.84069537e-02,\n",
       "       -3.48132253e-02,  5.07889129e-02,  3.45481522e-02, -4.04979065e-02,\n",
       "       -4.27603945e-02,  2.78409123e-02,  4.66893092e-02, -6.46444559e-02,\n",
       "       -5.29186847e-03, -5.78814140e-03, -1.56754684e-02, -5.47070475e-03,\n",
       "        1.39789339e-02, -1.11806160e-03,  5.50455239e-04, -2.26585176e-02,\n",
       "        1.50561174e-02,  3.38191949e-02, -8.25207308e-03,  2.16512512e-02,\n",
       "        8.77540268e-04, -2.40289071e-03, -2.82622185e-02,  1.05069084e-02,\n",
       "        3.68513763e-02, -2.31945943e-02, -2.93091964e-02, -4.81787957e-02,\n",
       "        2.89041363e-02, -4.68107983e-02, -3.55235264e-02, -2.09481232e-02,\n",
       "       -8.83257389e-03,  8.06665272e-02, -8.48142728e-02, -3.95478643e-02,\n",
       "       -5.03683947e-02,  2.69838423e-02, -3.94662889e-03, -2.39755847e-02,\n",
       "        3.29292603e-02,  4.16704863e-02, -2.45395787e-02, -3.85609604e-02,\n",
       "       -3.02901734e-02, -2.84513924e-02, -6.83768317e-02, -9.38013196e-03,\n",
       "       -4.70948108e-02, -2.15401128e-02,  4.15226817e-02,  6.90567493e-03,\n",
       "        2.96323895e-02, -1.55479824e-02, -2.56334860e-02, -4.94204834e-02,\n",
       "       -1.07959928e-02,  1.36496471e-02,  8.46201647e-03,  4.44033071e-02,\n",
       "        3.94030823e-04,  2.20193490e-02,  3.60401869e-02,  5.93104251e-02,\n",
       "        2.14909948e-02, -1.90566033e-02, -2.08020080e-02,  1.91409905e-02,\n",
       "       -3.78732965e-03,  1.66846830e-02,  2.79685222e-02, -6.88845385e-03,\n",
       "       -9.25213285e-03, -2.20814776e-02,  4.68295999e-02,  2.11678315e-02,\n",
       "       -2.44131554e-02, -7.68519565e-03,  3.94079536e-02, -5.65717854e-02,\n",
       "        8.71801563e-03,  2.10748632e-02, -1.76222362e-02,  5.53251356e-02,\n",
       "        3.49678844e-02, -2.62319297e-02,  5.69754727e-02, -7.94604570e-02,\n",
       "       -1.52110578e-02,  2.09261738e-02,  1.75831504e-02,  4.12070639e-02,\n",
       "        2.66289916e-02, -1.34376260e-02, -4.86178175e-02,  1.27242990e-02,\n",
       "        9.39352252e-03, -8.11940525e-03,  2.95723993e-02, -6.94517046e-02,\n",
       "       -7.10697398e-02,  3.01014021e-04,  4.31027785e-02, -5.95075265e-02,\n",
       "        2.65518948e-02, -5.90478517e-02,  4.46864665e-02, -1.46238776e-02,\n",
       "       -9.81821213e-03, -4.89698909e-02,  1.01139555e-02,  2.82771606e-02,\n",
       "        1.99888490e-07, -6.35881349e-02,  1.15380911e-02, -1.61976814e-02,\n",
       "       -3.75169963e-02,  2.24945396e-02,  5.75003866e-03, -6.25734478e-02,\n",
       "       -1.51105383e-02,  2.80585755e-02,  3.69874313e-02, -4.67125922e-02,\n",
       "       -2.84615774e-02,  1.72771700e-02, -9.28005576e-03,  7.98695609e-02,\n",
       "       -8.46899971e-02,  3.83958966e-02,  1.41009840e-03, -9.62688960e-03,\n",
       "        1.36490436e-02, -1.77746248e-02,  4.18013968e-02,  8.53313226e-03,\n",
       "       -1.77570141e-03, -8.90154671e-03,  3.19797806e-02,  3.75544541e-02,\n",
       "        1.10768378e-02,  5.14425747e-02,  4.77531105e-02,  9.78296548e-02,\n",
       "       -9.33889393e-03, -6.87361509e-02, -3.38470973e-02, -4.79168072e-03,\n",
       "       -3.35370079e-02, -2.90470719e-02,  2.22574510e-02, -6.03133987e-04,\n",
       "        4.80034016e-02, -3.26162502e-02,  7.76100084e-02, -2.88890153e-02,\n",
       "       -1.22944014e-02,  1.82095729e-02, -1.09790340e-01, -2.57627517e-02,\n",
       "        3.70126590e-02, -6.64491998e-03, -2.65491903e-02,  2.67257169e-02,\n",
       "        2.67417543e-02,  6.14934647e-03,  3.98129709e-02, -1.56967866e-03,\n",
       "        6.82414859e-04,  4.84148785e-02,  2.97230436e-03, -1.46997292e-02,\n",
       "       -3.73887569e-02, -1.90463010e-02,  4.02792692e-02,  1.27066521e-03,\n",
       "        1.20832049e-03, -5.90573363e-02, -1.78195890e-02, -5.61401062e-02,\n",
       "        9.20051450e-35,  1.11878114e-02,  1.60857476e-02,  9.83773638e-03,\n",
       "       -2.01888271e-02, -7.61506055e-03, -4.81336527e-02, -6.21872991e-02,\n",
       "        6.26684958e-03, -9.15236026e-02, -3.97000313e-02, -4.33048829e-02],\n",
       "      dtype=float32)"
      ]
     },
     "execution_count": 32,
     "metadata": {},
     "output_type": "execute_result"
    }
   ],
   "source": [
    "vectors[0]"
   ]
  },
  {
   "cell_type": "code",
   "execution_count": 34,
   "id": "2be56af9-fb9d-4cb3-8dd2-74b3d82ca77d",
   "metadata": {
    "tags": []
   },
   "outputs": [],
   "source": [
    "dim = vectors.shape[1]"
   ]
  },
  {
   "cell_type": "code",
   "execution_count": 36,
   "id": "d6f6dd65-08aa-4fd6-85bc-a84dcfc80f09",
   "metadata": {
    "tags": []
   },
   "outputs": [
    {
     "data": {
      "text/plain": [
       "768"
      ]
     },
     "execution_count": 36,
     "metadata": {},
     "output_type": "execute_result"
    }
   ],
   "source": [
    "dim"
   ]
  },
  {
   "cell_type": "code",
   "execution_count": 38,
   "id": "375f973d-b9b6-4073-9212-524f609c2c74",
   "metadata": {
    "tags": []
   },
   "outputs": [],
   "source": [
    "import faiss\n",
    "index = faiss.IndexFlatL2(dim)"
   ]
  },
  {
   "cell_type": "code",
   "execution_count": 40,
   "id": "f22d8ba5-a671-4477-b8bb-fd912c9cb298",
   "metadata": {
    "tags": []
   },
   "outputs": [
    {
     "data": {
      "text/plain": [
       "<faiss.swigfaiss.IndexFlatL2; proxy of <Swig Object of type 'faiss::IndexFlatL2 *' at 0x16da77cf0> >"
      ]
     },
     "execution_count": 40,
     "metadata": {},
     "output_type": "execute_result"
    }
   ],
   "source": [
    "index\n"
   ]
  },
  {
   "cell_type": "code",
   "execution_count": 42,
   "id": "57eb67d6-cf3a-40e4-9e3d-b2d271c470ac",
   "metadata": {
    "tags": []
   },
   "outputs": [],
   "source": [
    "index.add(vectors)"
   ]
  },
  {
   "cell_type": "code",
   "execution_count": 44,
   "id": "7ce5bb84-7848-450f-94c0-608964c8cbef",
   "metadata": {
    "tags": []
   },
   "outputs": [],
   "source": [
    "search_query = \"An apple a day keeps doctor away\""
   ]
  },
  {
   "cell_type": "code",
   "execution_count": 46,
   "id": "42b78d83-2525-44ea-bc13-f73ca558a498",
   "metadata": {
    "tags": []
   },
   "outputs": [],
   "source": [
    "vec = encoder.encode(search_query)"
   ]
  },
  {
   "cell_type": "code",
   "execution_count": 47,
   "id": "cac18d27-d2a2-4231-a1e3-506ec0a60337",
   "metadata": {
    "tags": []
   },
   "outputs": [
    {
     "data": {
      "text/plain": [
       "(768,)"
      ]
     },
     "execution_count": 47,
     "metadata": {},
     "output_type": "execute_result"
    }
   ],
   "source": [
    "vec.shape"
   ]
  },
  {
   "cell_type": "code",
   "execution_count": 54,
   "id": "ad515d64-4c7a-460b-820f-a7b776c04101",
   "metadata": {
    "tags": []
   },
   "outputs": [],
   "source": [
    "import numpy as np \n",
    "svec = np.array(vec).reshape(1,-1) #2D array"
   ]
  },
  {
   "cell_type": "code",
   "execution_count": 56,
   "id": "69b123ec-c35c-4bc6-9b39-4dcc4a550ef5",
   "metadata": {
    "tags": []
   },
   "outputs": [
    {
     "data": {
      "text/plain": [
       "(1, 768)"
      ]
     },
     "execution_count": 56,
     "metadata": {},
     "output_type": "execute_result"
    }
   ],
   "source": [
    "svec.shape"
   ]
  },
  {
   "cell_type": "code",
   "execution_count": 58,
   "id": "6886a2f8-d660-4525-a598-9d11b51f776a",
   "metadata": {
    "tags": []
   },
   "outputs": [
    {
     "data": {
      "text/plain": [
       "(array([[1.3908098, 1.7193401]], dtype=float32), array([[1, 0]]))"
      ]
     },
     "execution_count": 58,
     "metadata": {},
     "output_type": "execute_result"
    }
   ],
   "source": [
    "index.search(svec, k=2) #k is how many similar vectors you are looking for"
   ]
  },
  {
   "cell_type": "code",
   "execution_count": 60,
   "id": "b2ede8cc-da23-4f3b-893c-2dda6edec544",
   "metadata": {
    "tags": []
   },
   "outputs": [],
   "source": [
    "dis, I = index.search(svec, k=2)"
   ]
  },
  {
   "cell_type": "code",
   "execution_count": 62,
   "id": "1b3625d6-7a35-4c19-a6c2-486f58751b65",
   "metadata": {
    "tags": []
   },
   "outputs": [
    {
     "data": {
      "text/plain": [
       "array([[1.3908098, 1.7193401]], dtype=float32)"
      ]
     },
     "execution_count": 62,
     "metadata": {},
     "output_type": "execute_result"
    }
   ],
   "source": [
    "dis"
   ]
  },
  {
   "cell_type": "code",
   "execution_count": 64,
   "id": "0bbcf85a-8a1f-4826-890c-56b6cb3d9074",
   "metadata": {
    "tags": []
   },
   "outputs": [
    {
     "data": {
      "text/plain": [
       "array([[1, 0]])"
      ]
     },
     "execution_count": 64,
     "metadata": {},
     "output_type": "execute_result"
    }
   ],
   "source": [
    "I"
   ]
  },
  {
   "cell_type": "code",
   "execution_count": 66,
   "id": "f9223e47-af12-429d-a620-225e85eb324e",
   "metadata": {
    "tags": []
   },
   "outputs": [
    {
     "data": {
      "text/html": [
       "<div>\n",
       "<style scoped>\n",
       "    .dataframe tbody tr th:only-of-type {\n",
       "        vertical-align: middle;\n",
       "    }\n",
       "\n",
       "    .dataframe tbody tr th {\n",
       "        vertical-align: top;\n",
       "    }\n",
       "\n",
       "    .dataframe thead th {\n",
       "        text-align: right;\n",
       "    }\n",
       "</style>\n",
       "<table border=\"1\" class=\"dataframe\">\n",
       "  <thead>\n",
       "    <tr style=\"text-align: right;\">\n",
       "      <th></th>\n",
       "      <th>text</th>\n",
       "      <th>category</th>\n",
       "    </tr>\n",
       "  </thead>\n",
       "  <tbody>\n",
       "    <tr>\n",
       "      <th>1</th>\n",
       "      <td>Fruits, whole grains and vegetables helps cont...</td>\n",
       "      <td>Health</td>\n",
       "    </tr>\n",
       "    <tr>\n",
       "      <th>0</th>\n",
       "      <td>Meditation and yoga can improve mental health</td>\n",
       "      <td>Health</td>\n",
       "    </tr>\n",
       "  </tbody>\n",
       "</table>\n",
       "</div>"
      ],
      "text/plain": [
       "                                                text category\n",
       "1  Fruits, whole grains and vegetables helps cont...   Health\n",
       "0      Meditation and yoga can improve mental health   Health"
      ]
     },
     "execution_count": 66,
     "metadata": {},
     "output_type": "execute_result"
    }
   ],
   "source": [
    "df.loc[I[0]]"
   ]
  },
  {
   "cell_type": "code",
   "execution_count": null,
   "id": "c87942c9-b411-4ee4-831b-84ff06eebe13",
   "metadata": {},
   "outputs": [],
   "source": []
  },
  {
   "cell_type": "code",
   "execution_count": null,
   "id": "87ff9eed-6faf-4ca3-8395-6100b28c63c3",
   "metadata": {},
   "outputs": [],
   "source": []
  },
  {
   "cell_type": "code",
   "execution_count": null,
   "id": "761ed3fe-c19a-4cbc-b642-a396df444cf8",
   "metadata": {},
   "outputs": [],
   "source": []
  },
  {
   "cell_type": "code",
   "execution_count": null,
   "id": "322d7d73-c72c-4aea-9a57-21d8a26c7648",
   "metadata": {},
   "outputs": [],
   "source": []
  },
  {
   "cell_type": "code",
   "execution_count": null,
   "id": "05cfd07f-a50f-431a-a6df-be8aecc7b5ce",
   "metadata": {},
   "outputs": [],
   "source": []
  },
  {
   "cell_type": "code",
   "execution_count": null,
   "id": "4acd8eaa-b113-4b33-9418-722f766f5738",
   "metadata": {},
   "outputs": [],
   "source": []
  },
  {
   "cell_type": "code",
   "execution_count": null,
   "id": "e01f5737-9e42-42b0-90a1-382462b2621d",
   "metadata": {},
   "outputs": [],
   "source": []
  },
  {
   "cell_type": "code",
   "execution_count": null,
   "id": "9d3587a2-709e-4f1a-b919-411d16b288a4",
   "metadata": {},
   "outputs": [],
   "source": []
  },
  {
   "cell_type": "code",
   "execution_count": null,
   "id": "e7e014dc-c3b3-4a01-8570-6cc7154b71a4",
   "metadata": {},
   "outputs": [],
   "source": []
  },
  {
   "cell_type": "code",
   "execution_count": null,
   "id": "9d6eed22-6e6a-4a18-8a83-bec5c1f9c9c0",
   "metadata": {},
   "outputs": [],
   "source": []
  },
  {
   "cell_type": "code",
   "execution_count": null,
   "id": "fa60fe77-9a6e-4402-9fd9-cf290a36a602",
   "metadata": {},
   "outputs": [],
   "source": []
  }
 ],
 "metadata": {
  "kernelspec": {
   "display_name": "Python 3 (ipykernel)",
   "language": "python",
   "name": "python3"
  },
  "language_info": {
   "codemirror_mode": {
    "name": "ipython",
    "version": 3
   },
   "file_extension": ".py",
   "mimetype": "text/x-python",
   "name": "python",
   "nbconvert_exporter": "python",
   "pygments_lexer": "ipython3",
   "version": "3.11.7"
  }
 },
 "nbformat": 4,
 "nbformat_minor": 5
}
